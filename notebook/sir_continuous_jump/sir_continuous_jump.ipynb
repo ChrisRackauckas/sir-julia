{
  "cells": [
    {
      "cell_type": "markdown",
      "source": [
        "# Stochastic SIR in continuous time using DifferentialEquations.jl\n### Simon Frost"
      ],
      "metadata": {}
    },
    {
      "outputs": [],
      "cell_type": "code",
      "source": [
        "using DifferentialEquations\nusing SimpleDiffEq\nusing Random\nusing Plots\nusing BenchmarkTools"
      ],
      "metadata": {},
      "execution_count": null
    },
    {
      "outputs": [],
      "cell_type": "code",
      "source": [
        "function infection_rate(u,p,t)\n    (S,I,R) = u\n    (β,γ) = p\n    N = S+I+R\n    β*S*I/N\nend\nfunction infection!(integrator)\n  integrator.u[1] -= 1\n  integrator.u[2] += 1\nend\ninfection_jump = ConstantRateJump(infection_rate,infection!)"
      ],
      "metadata": {},
      "execution_count": null
    },
    {
      "outputs": [],
      "cell_type": "code",
      "source": [
        "function recovery_rate(u,p,t)\n    (S,I,R) = u\n    (β,γ) = p\n    γ*I\nend\nfunction recovery!(integrator)\n  integrator.u[2] -= 1\n  integrator.u[3] += 1\nend\nrecovery_jump = ConstantRateJump(recovery_rate,recovery!)"
      ],
      "metadata": {},
      "execution_count": null
    },
    {
      "outputs": [],
      "cell_type": "code",
      "source": [
        "tspan = (0.0,50.0)\nu0 = [999.0,1.0,0.0]\np = [0.5,0.25]\nRandom.seed!(1234)"
      ],
      "metadata": {},
      "execution_count": null
    },
    {
      "outputs": [],
      "cell_type": "code",
      "source": [
        "prob = DiscreteProblem(u0,tspan,p)\nprob_sir_jump = JumpProblem(prob,Direct(),infection_jump,recovery_jump)\nsol_sir_jump = solve(prob_sir_jump,FunctionMap())"
      ],
      "metadata": {},
      "execution_count": null
    },
    {
      "outputs": [],
      "cell_type": "code",
      "source": [
        "plot(sol_sir_jump,vars=[(0,1),(0,2),(0,3)])"
      ],
      "metadata": {},
      "execution_count": null
    },
    {
      "outputs": [],
      "cell_type": "code",
      "source": [
        "@benchmark solve(prob_sir_jump,FunctionMap())"
      ],
      "metadata": {},
      "execution_count": null
    }
  ],
  "nbformat_minor": 2,
  "metadata": {
    "language_info": {
      "file_extension": ".jl",
      "mimetype": "application/julia",
      "name": "julia",
      "version": "1.4.0"
    },
    "kernelspec": {
      "name": "julia-1.4",
      "display_name": "Julia 1.4.0",
      "language": "julia"
    }
  },
  "nbformat": 4
}
