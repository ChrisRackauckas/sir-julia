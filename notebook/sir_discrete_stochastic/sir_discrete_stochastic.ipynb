{
  "cells": [
    {
      "cell_type": "markdown",
      "source": [
        "# Discrete deterministic SIR using DifferentialEquations.jl\n### Simon Frost"
      ],
      "metadata": {}
    },
    {
      "outputs": [],
      "cell_type": "code",
      "source": [
        "using DifferentialEquations\nusing SimpleDiffEq\nusing Distributions\nusing Random\nusing Plots\nusing BenchmarkTools"
      ],
      "metadata": {},
      "execution_count": null
    },
    {
      "outputs": [],
      "cell_type": "code",
      "source": [
        "@inline function rate_to_proportion(r::Float64,t::Float64)\n    1-exp(-r*t)\nend"
      ],
      "metadata": {},
      "execution_count": null
    },
    {
      "outputs": [],
      "cell_type": "code",
      "source": [
        "function sir_discrete_stochastic(du,u,p,t)\n    (S,I,R) = u\n    (β,γ,δt) = p\n    N = S+I+R\n    ifrac = rate_to_proportion(β*I/N,δt)\n    rfrac = rate_to_proportion(γ,δt)\n    infection=rand(Binomial(S,ifrac))\n    recovery=rand(Binomial(I,rfrac))\n    @inbounds begin\n        du[1] = S-infection\n        du[2] = I+infection-recovery\n        du[3] = R+recovery\n    end\n    nothing\nend"
      ],
      "metadata": {},
      "execution_count": null
    },
    {
      "outputs": [],
      "cell_type": "code",
      "source": [
        "δt = 0.01\nnsteps = 5000\ntf = nsteps*δt\ntspan = (0.0,nsteps)"
      ],
      "metadata": {},
      "execution_count": null
    },
    {
      "outputs": [],
      "cell_type": "code",
      "source": [
        "u0 = [999,1,0]\np = [0.5,0.25,0.01]"
      ],
      "metadata": {},
      "execution_count": null
    },
    {
      "outputs": [],
      "cell_type": "code",
      "source": [
        "Random.seed!(1234)"
      ],
      "metadata": {},
      "execution_count": null
    },
    {
      "outputs": [],
      "cell_type": "code",
      "source": [
        "prob_sir_discrete_stochastic = DiscreteProblem(sir_discrete_stochastic,u0,tspan,p)\nsol_sir_discrete_stochastic = solve(prob_sir_discrete_stochastic,solver=FunctionMap)"
      ],
      "metadata": {},
      "execution_count": null
    },
    {
      "outputs": [],
      "cell_type": "code",
      "source": [
        "plot(sol_sir_discrete_stochastic)"
      ],
      "metadata": {},
      "execution_count": null
    },
    {
      "outputs": [],
      "cell_type": "code",
      "source": [
        "@benchmark solve(prob_sir_discrete_stochastic,solver=FunctionMap)"
      ],
      "metadata": {},
      "execution_count": null
    }
  ],
  "nbformat_minor": 2,
  "metadata": {
    "language_info": {
      "file_extension": ".jl",
      "mimetype": "application/julia",
      "name": "julia",
      "version": "1.4.0"
    },
    "kernelspec": {
      "name": "julia-1.4",
      "display_name": "Julia 1.4.0",
      "language": "julia"
    }
  },
  "nbformat": 4
}
