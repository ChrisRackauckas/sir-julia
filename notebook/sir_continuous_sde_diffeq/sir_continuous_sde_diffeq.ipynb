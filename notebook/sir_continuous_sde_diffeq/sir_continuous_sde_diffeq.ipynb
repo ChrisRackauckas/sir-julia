{
  "cells": [
    {
      "cell_type": "markdown",
      "source": [
        "# SIR SDE using DifferentialEquations.jl\n### Simon Frost"
      ],
      "metadata": {}
    },
    {
      "outputs": [],
      "cell_type": "code",
      "source": [
        "using DifferentialEquations\nusing StochasticDiffEq\nusing Random\nusing SparseArrays\nusing Plots"
      ],
      "metadata": {},
      "execution_count": null
    },
    {
      "outputs": [],
      "cell_type": "code",
      "source": [
        "function sir_ode(du,u,p,t)\n    (S,I,R) = u\n    (β,γ) = p\n    N = S+I+R\n    @inbounds begin\n        du[1] = -β*S*I/N\n        du[2] = β*S*I/N - γ*I\n        du[3] = γ*I\n    end\n    nothing\nend"
      ],
      "metadata": {},
      "execution_count": null
    },
    {
      "outputs": [],
      "cell_type": "code",
      "source": [
        "# Define a sparse matrix by making a dense matrix and setting some values as not zero\nA = zeros(3,2)\nA[1,1] = 1\nA[2,1] = 1\nA[2,2] = 1\nA[3,2] = 1\nA = SparseArrays.sparse(A)"
      ],
      "metadata": {},
      "execution_count": null
    },
    {
      "outputs": [],
      "cell_type": "code",
      "source": [
        "# Make `g` write the sparse matrix values\nfunction sir_noise(du,u,p,t)\n    (S,I,R) = u\n    (β,γ) = p\n    N = S+I+R\n    ifrac = β*I/N*S\n    rfrac = γ*I\n    du[1,1] = -sqrt(ifrac)\n    du[2,1] = sqrt(ifrac)\n    du[2,2] = -sqrt(rfrac)\n    du[3,2] = sqrt(rfrac)\nend"
      ],
      "metadata": {},
      "execution_count": null
    },
    {
      "outputs": [],
      "cell_type": "code",
      "source": [
        "tspan = (0.0,50.0)\nu0 = [999.0,1.0,0.0]\np = [0.5,0.25]\nRandom.seed!(1234)"
      ],
      "metadata": {},
      "execution_count": null
    },
    {
      "outputs": [],
      "cell_type": "code",
      "source": [
        "prob_sir_sde = SDEProblem(sir_ode,sir_noise,u0,tspan,p,noise_rate_prototype=A)\nsol_sir_sde = solve(prob_sir_sde,SRA1())"
      ],
      "metadata": {},
      "execution_count": null
    },
    {
      "outputs": [],
      "cell_type": "code",
      "source": [
        "plot(sol_sir_sde,vars=[(0,1),(0,2),(0,3)])"
      ],
      "metadata": {},
      "execution_count": null
    }
  ],
  "nbformat_minor": 2,
  "metadata": {
    "language_info": {
      "file_extension": ".jl",
      "mimetype": "application/julia",
      "name": "julia",
      "version": "1.4.0"
    },
    "kernelspec": {
      "name": "julia-1.4",
      "display_name": "Julia 1.4.0",
      "language": "julia"
    }
  },
  "nbformat": 4
}
