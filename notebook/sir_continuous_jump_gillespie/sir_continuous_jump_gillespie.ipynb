{
  "cells": [
    {
      "cell_type": "markdown",
      "source": [
        "# Stochastic SIR in continuous time using Gillespie.jl\n### Simon Frost"
      ],
      "metadata": {}
    },
    {
      "outputs": [],
      "cell_type": "code",
      "source": [
        "using Gillespie\nusing Random\nusing Plots\nusing BenchmarkTools"
      ],
      "metadata": {},
      "execution_count": null
    },
    {
      "outputs": [],
      "cell_type": "code",
      "source": [
        "function sir_rates(x,parms)\n  (S,I,R) = x\n  (β,γ) = parms\n  N = S+I+R\n  infection = β*S*I/N\n  recovery = γ*I\n  [infection,recovery]\nend\nsir_transitions = [[-1 1 0];[0 -1 1]]"
      ],
      "metadata": {},
      "execution_count": null
    },
    {
      "outputs": [],
      "cell_type": "code",
      "source": [
        "u0 = [999,1,0]\np = [0.5,0.25]\nRandom.seed!(1235)\ntf = 50.0"
      ],
      "metadata": {},
      "execution_count": null
    },
    {
      "outputs": [],
      "cell_type": "code",
      "source": [
        "sir_result = ssa(u0,sir_rates,sir_transitions,p,tf)\ndata = ssa_data(sir_result)"
      ],
      "metadata": {},
      "execution_count": null
    },
    {
      "outputs": [],
      "cell_type": "code",
      "source": [
        "plot(data[:,1],data[:,2])\nplot!(data[:,1],data[:,3])\nplot!(data[:,1],data[:,4])"
      ],
      "metadata": {},
      "execution_count": null
    },
    {
      "outputs": [],
      "cell_type": "code",
      "source": [
        "@benchmark ssa(u0,sir_rates,sir_transitions,p,tf)"
      ],
      "metadata": {},
      "execution_count": null
    }
  ],
  "nbformat_minor": 2,
  "metadata": {
    "language_info": {
      "file_extension": ".jl",
      "mimetype": "application/julia",
      "name": "julia",
      "version": "1.4.0"
    },
    "kernelspec": {
      "name": "julia-1.4",
      "display_name": "Julia 1.4.0",
      "language": "julia"
    }
  },
  "nbformat": 4
}
