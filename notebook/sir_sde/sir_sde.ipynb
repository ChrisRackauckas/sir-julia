{
  "cells": [
    {
      "cell_type": "markdown",
      "source": [
        "# SDE SIR\n### Simon Frost"
      ],
      "metadata": {}
    },
    {
      "outputs": [],
      "cell_type": "code",
      "source": [
        "using DifferentialEquations\nusing SimpleDiffEq\nusing Distributions\nusing Random\nusing Plots\nusing BenchmarkTools"
      ],
      "metadata": {},
      "execution_count": null
    },
    {
      "outputs": [],
      "cell_type": "code",
      "source": [
        "function sir_sde(du,u,p,t)\n    (S,I,R) = u\n    (β,γ,δt) = p\n    N = S+I+R\n    ifrac = β*I/N*S*δt\n    rfrac = γ*I*δt\n    ifrac_noise = sqrt(ifrac)*rand(Normal(0,1))\n    rfrac_noise = sqrt(rfrac)*rand(Normal(0,1))\n    @inbounds begin\n        du[1] = S-(ifrac+ifrac_noise)\n        du[2] = I+(ifrac+ifrac_noise) - (rfrac + rfrac_noise)\n        du[3] = R+(rfrac+rfrac_noise)\n    end\n    for i in 1:3\n        if du[i] < 0 du[i]=0 end\n    end\n    nothing\nend"
      ],
      "metadata": {},
      "execution_count": null
    },
    {
      "outputs": [],
      "cell_type": "code",
      "source": [
        "δt = 0.01\nnsteps = 5000\ntf = nsteps*δt\ntspan = (0.0,nsteps)"
      ],
      "metadata": {},
      "execution_count": null
    },
    {
      "outputs": [],
      "cell_type": "code",
      "source": [
        "u0 = [990.0,10.0,0.0]\np = [0.5,0.25,0.01]"
      ],
      "metadata": {},
      "execution_count": null
    },
    {
      "outputs": [],
      "cell_type": "code",
      "source": [
        "Random.seed!(1234)"
      ],
      "metadata": {},
      "execution_count": null
    },
    {
      "outputs": [],
      "cell_type": "code",
      "source": [
        "prob_sir_sde = DiscreteProblem((du,u,p,t)->sir_sde(du,u,p,t),u0,tspan,p)\nsol_sir_sde = solve(prob_sir_sde,solver=FunctionMap)"
      ],
      "metadata": {},
      "execution_count": null
    },
    {
      "outputs": [],
      "cell_type": "code",
      "source": [
        "plot(sol_sir_sde)"
      ],
      "metadata": {},
      "execution_count": null
    },
    {
      "outputs": [],
      "cell_type": "code",
      "source": [
        "@benchmark solve(prob_sir_sde,solver=FunctionMap)"
      ],
      "metadata": {},
      "execution_count": null
    }
  ],
  "nbformat_minor": 2,
  "metadata": {
    "language_info": {
      "file_extension": ".jl",
      "mimetype": "application/julia",
      "name": "julia",
      "version": "1.4.0"
    },
    "kernelspec": {
      "name": "julia-1.4",
      "display_name": "Julia 1.4.0",
      "language": "julia"
    }
  },
  "nbformat": 4
}
